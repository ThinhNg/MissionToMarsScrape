{
 "cells": [
  {
   "cell_type": "code",
   "execution_count": 19,
   "metadata": {},
   "outputs": [],
   "source": [
    "from splinter import Browser\n",
    "from bs4 import BeautifulSoup\n",
    "import requests\n",
    "import pandas as pd\n"
   ]
  },
  {
   "cell_type": "code",
   "execution_count": 16,
   "metadata": {},
   "outputs": [],
   "source": [
    "# Set up connection to chrome driver.\n",
    "executable_path = {'executable_path': 'chromedriver.exe'}\n",
    "browser = Browser('chrome', **executable_path, headless=False)"
   ]
  },
  {
   "cell_type": "code",
   "execution_count": 63,
   "metadata": {},
   "outputs": [],
   "source": [
    "#Visits the news page to retrieve latest news title/paragraph.\n",
    "url='https://mars.nasa.gov/news/'\n",
    "browser.visit(url)\n",
    "#Converts html to BS object.\n",
    "html=browser.html\n",
    "soup = BeautifulSoup(html, 'html.parser')"
   ]
  },
  {
   "cell_type": "code",
   "execution_count": 64,
   "metadata": {},
   "outputs": [],
   "source": [
    "#Gets the latest News Article with their title and paragraph.\n",
    "LatestArt=soup.find('li',class_=\"slide\")\n",
    "\n",
    "LatTitle = LatestArt.find('div',class_='content_title').text\n",
    "LatPara = LatestArt.find('div',class_='article_teaser_body').text\n"
   ]
  },
  {
   "cell_type": "code",
   "execution_count": 65,
   "metadata": {},
   "outputs": [],
   "source": [
    "#Visits mars spaces image part of the site.\n",
    "FeatureMarsUrl='https://www.jpl.nasa.gov/spaceimages/?search=&category=Mars'\n",
    "browser.visit(FeatureMarsUrl)\n",
    "html=browser.html\n",
    "soup = BeautifulSoup(html, 'html.parser')\n",
    "\n",
    "FeatElement=soup.find('div',class_='carousel_items')\n"
   ]
  },
  {
   "cell_type": "code",
   "execution_count": 66,
   "metadata": {},
   "outputs": [
    {
     "data": {
      "text/plain": [
       "'https://www.jpl.nasa.gov/spaceimages/images/wallpaper/PIA12826-1920x1200.jpg'"
      ]
     },
     "execution_count": 66,
     "metadata": {},
     "output_type": "execute_result"
    }
   ],
   "source": [
    "#Retrieves the String of the featured space image and joins the strings to get the correct url.\n",
    "\n",
    "StartUrl='https://www.jpl.nasa.gov'\n",
    "\n",
    "#Cleans ups the string element to retrieve the correct ending url for image.\n",
    "SplitUp=FeatElement.article['style'].split('\\'')\n",
    "EndImgUrl=SplitUp[1]\n",
    "\n",
    "featured_image_url = StartUrl+EndImgUrl\n",
    "featured_image_url"
   ]
  },
  {
   "cell_type": "code",
   "execution_count": 67,
   "metadata": {},
   "outputs": [],
   "source": [
    "#Sets up visit to twitter.\n",
    "TwitterMarsUrl='https://twitter.com/marswxreport?lang=en'\n",
    "browser.visit(TwitterMarsUrl)\n",
    "html=browser.html\n",
    "soup = BeautifulSoup(html, 'html.parser')"
   ]
  },
  {
   "cell_type": "code",
   "execution_count": 68,
   "metadata": {},
   "outputs": [
    {
     "data": {
      "text/plain": [
       "'Sol 2319 (2019-02-13), high -17C/1F, low -72C/-97F, pressure at 8.12 hPa, daylight 06:46-18:52pic.twitter.com/anlHR95BMs'"
      ]
     },
     "execution_count": 68,
     "metadata": {},
     "output_type": "execute_result"
    }
   ],
   "source": [
    "mars_weather=soup.find('p',class_='TweetTextSize TweetTextSize--normal js-tweet-text tweet-text').text"
   ]
  },
  {
   "cell_type": "code",
   "execution_count": 31,
   "metadata": {},
   "outputs": [],
   "source": [
    "#Grabs the martian facts table.\n",
    "MarsFacts_url = 'https://space-facts.com/mars/'\n",
    "tables = pd.read_html(MarsFacts_url)"
   ]
  },
  {
   "cell_type": "code",
   "execution_count": 38,
   "metadata": {},
   "outputs": [],
   "source": [
    "#Saves table of interest as an html string.\n",
    "FactsTable=tables[0].rename(columns={0: 'Type', 1: 'Fact'})\n",
    "FactsTable.set_index('Type',inplace=True)\n",
    "MartianHTML_table = FactsTable.to_html()\n"
   ]
  },
  {
   "cell_type": "code",
   "execution_count": 26,
   "metadata": {},
   "outputs": [],
   "source": [
    "#Creates a list of dictionaries of each hemisphere of Mars.\n",
    "\n",
    "HemiUrl ='https://astrogeology.usgs.gov/search/results?q=hemisphere+enhanced&k1=target&v1=Mars'\n",
    "\n",
    "ListsOfHemi=['Cerberus','Schiaparelli','Syrtis','Valles']\n",
    "HemiImgList = []\n",
    "\n",
    "for Hemi in ListsOfHemi:\n",
    "    browser.visit(HemiUrl)\n",
    "    browser.click_link_by_partial_text(Hemi)\n",
    "    soup = BeautifulSoup(browser.html, 'html.parser')\n",
    "    imgurl=soup.find('a',text='Sample')['href']\n",
    "    HemiImgList.append(imgurl)\n",
    "\n",
    "\n",
    "hemisphere_image_urls = [\n",
    "    {\"title\": \"Cerberus Hemisphere\", \"img_url\": HemiImgList[0]},\n",
    "    {\"title\": \"Schiaparelli Hemisphere\", \"img_url\": HemiImgList[1]},\n",
    "    {\"title\": \"Syrtis Major Hemisphere\", \"img_url\": HemiImgList[2]},\n",
    "    {\"title\": \"Valles Marineris Hemisphere\", \"img_url\": HemiImgList[3]}\n",
    "]\n"
   ]
  }
 ],
 "metadata": {
  "kernelspec": {
   "display_name": "Python 3",
   "language": "python",
   "name": "python3"
  },
  "language_info": {
   "codemirror_mode": {
    "name": "ipython",
    "version": 3
   },
   "file_extension": ".py",
   "mimetype": "text/x-python",
   "name": "python",
   "nbconvert_exporter": "python",
   "pygments_lexer": "ipython3",
   "version": "3.7.0"
  }
 },
 "nbformat": 4,
 "nbformat_minor": 2
}
